{
 "cells": [
  {
   "cell_type": "code",
   "execution_count": 1,
   "id": "acca5c70-11bd-4ffd-923e-9200fabaea60",
   "metadata": {},
   "outputs": [],
   "source": [
    "\n",
    "import pandas as pd\n",
    "import numpy as np\n",
    "import seaborn as sns\n",
    "import matplotlib.pyplot as plt\n",
    "%matplotlib inline\n",
    "import statsmodels.api as sm\n",
    "import warnings\n",
    "warnings.filterwarnings('ignore')\n",
    "from scipy import stats\n",
    "from statsmodels.formula.api import ols\n",
    "from sklearn.linear_model import LinearRegression\n",
    "from sklearn import metrics\n",
    "from sklearn.feature_selection import RFE\n",
    "from sklearn.preprocessing import PolynomialFeatures, StandardScaler\n",
    "from sklearn.model_selection import train_test_split, cross_val_score\n",
    "from sklearn.impute import SimpleImputer\n",
    "from sklearn.model_selection import train_test_split\n",
    "from sklearn.metrics import mean_squared_error\n",
    "from sklearn import preprocessing\n",
    "from sklearn.preprocessing import OneHotEncoder"
   ]
  },
  {
   "cell_type": "code",
   "execution_count": 2,
   "id": "5d2f91e9-4e66-41bb-b16d-3df1fafdcec4",
   "metadata": {},
   "outputs": [],
   "source": [
    "df = pd.read_csv('https://raw.githubusercontent.com/learn-co-students/bsc-phase-two-project/main/data/kc_house_data.csv')"
   ]
  },
  {
   "cell_type": "markdown",
   "id": "bbcd818e-939e-4dfd-836b-3ad9e61245e2",
   "metadata": {},
   "source": [
    "### Check the correlation for price"
   ]
  },
  {
   "cell_type": "code",
   "execution_count": 3,
   "id": "e24dd2cd-4ab9-426a-9769-3e03eb1466a2",
   "metadata": {},
   "outputs": [
    {
     "data": {
      "text/plain": [
       "price            1.000000\n",
       "sqft_living      0.701917\n",
       "grade            0.667951\n",
       "sqft_above       0.605368\n",
       "sqft_living15    0.585241\n",
       "bathrooms        0.525906\n",
       "view             0.395734\n",
       "bedrooms         0.308787\n",
       "lat              0.306692\n",
       "waterfront       0.276295\n",
       "floors           0.256804\n",
       "yr_renovated     0.129599\n",
       "sqft_lot         0.089876\n",
       "sqft_lot15       0.082845\n",
       "yr_built         0.053953\n",
       "zipcode          0.053402\n",
       "condition        0.036056\n",
       "long             0.022036\n",
       "id               0.016772\n",
       "Name: price, dtype: float64"
      ]
     },
     "execution_count": 3,
     "metadata": {},
     "output_type": "execute_result"
    }
   ],
   "source": [
    "# Check everyting correlated to price\n",
    "price_corr = df.corr()['price'].map(abs).sort_values(ascending=False)\n",
    "price_corr"
   ]
  },
  {
   "cell_type": "code",
   "execution_count": 4,
   "id": "30e669bc-ec1a-4428-b2ad-83370c88bf08",
   "metadata": {},
   "outputs": [],
   "source": [
    "### New Data Frame with"
   ]
  },
  {
   "cell_type": "code",
   "execution_count": 5,
   "id": "d555bafe-8887-413a-9481-3ae958984069",
   "metadata": {},
   "outputs": [
    {
     "data": {
      "text/html": [
       "<div>\n",
       "<style scoped>\n",
       "    .dataframe tbody tr th:only-of-type {\n",
       "        vertical-align: middle;\n",
       "    }\n",
       "\n",
       "    .dataframe tbody tr th {\n",
       "        vertical-align: top;\n",
       "    }\n",
       "\n",
       "    .dataframe thead th {\n",
       "        text-align: right;\n",
       "    }\n",
       "</style>\n",
       "<table border=\"1\" class=\"dataframe\">\n",
       "  <thead>\n",
       "    <tr style=\"text-align: right;\">\n",
       "      <th></th>\n",
       "      <th>price</th>\n",
       "      <th>sqft_living</th>\n",
       "      <th>grade</th>\n",
       "      <th>yr_built</th>\n",
       "      <th>zipcode</th>\n",
       "      <th>bathrooms</th>\n",
       "      <th>view</th>\n",
       "      <th>bedrooms</th>\n",
       "      <th>condition</th>\n",
       "      <th>waterfront</th>\n",
       "      <th>floors</th>\n",
       "      <th>sqft_basement</th>\n",
       "      <th>condition</th>\n",
       "    </tr>\n",
       "  </thead>\n",
       "  <tbody>\n",
       "    <tr>\n",
       "      <th>0</th>\n",
       "      <td>221900.0</td>\n",
       "      <td>1180</td>\n",
       "      <td>7</td>\n",
       "      <td>1955</td>\n",
       "      <td>98178</td>\n",
       "      <td>1.00</td>\n",
       "      <td>0.0</td>\n",
       "      <td>3</td>\n",
       "      <td>3</td>\n",
       "      <td>NaN</td>\n",
       "      <td>1.0</td>\n",
       "      <td>0.0</td>\n",
       "      <td>3</td>\n",
       "    </tr>\n",
       "    <tr>\n",
       "      <th>1</th>\n",
       "      <td>538000.0</td>\n",
       "      <td>2570</td>\n",
       "      <td>7</td>\n",
       "      <td>1951</td>\n",
       "      <td>98125</td>\n",
       "      <td>2.25</td>\n",
       "      <td>0.0</td>\n",
       "      <td>3</td>\n",
       "      <td>3</td>\n",
       "      <td>0.0</td>\n",
       "      <td>2.0</td>\n",
       "      <td>400.0</td>\n",
       "      <td>3</td>\n",
       "    </tr>\n",
       "    <tr>\n",
       "      <th>2</th>\n",
       "      <td>180000.0</td>\n",
       "      <td>770</td>\n",
       "      <td>6</td>\n",
       "      <td>1933</td>\n",
       "      <td>98028</td>\n",
       "      <td>1.00</td>\n",
       "      <td>0.0</td>\n",
       "      <td>2</td>\n",
       "      <td>3</td>\n",
       "      <td>0.0</td>\n",
       "      <td>1.0</td>\n",
       "      <td>0.0</td>\n",
       "      <td>3</td>\n",
       "    </tr>\n",
       "    <tr>\n",
       "      <th>3</th>\n",
       "      <td>604000.0</td>\n",
       "      <td>1960</td>\n",
       "      <td>7</td>\n",
       "      <td>1965</td>\n",
       "      <td>98136</td>\n",
       "      <td>3.00</td>\n",
       "      <td>0.0</td>\n",
       "      <td>4</td>\n",
       "      <td>5</td>\n",
       "      <td>0.0</td>\n",
       "      <td>1.0</td>\n",
       "      <td>910.0</td>\n",
       "      <td>5</td>\n",
       "    </tr>\n",
       "    <tr>\n",
       "      <th>4</th>\n",
       "      <td>510000.0</td>\n",
       "      <td>1680</td>\n",
       "      <td>8</td>\n",
       "      <td>1987</td>\n",
       "      <td>98074</td>\n",
       "      <td>2.00</td>\n",
       "      <td>0.0</td>\n",
       "      <td>3</td>\n",
       "      <td>3</td>\n",
       "      <td>0.0</td>\n",
       "      <td>1.0</td>\n",
       "      <td>0.0</td>\n",
       "      <td>3</td>\n",
       "    </tr>\n",
       "    <tr>\n",
       "      <th>...</th>\n",
       "      <td>...</td>\n",
       "      <td>...</td>\n",
       "      <td>...</td>\n",
       "      <td>...</td>\n",
       "      <td>...</td>\n",
       "      <td>...</td>\n",
       "      <td>...</td>\n",
       "      <td>...</td>\n",
       "      <td>...</td>\n",
       "      <td>...</td>\n",
       "      <td>...</td>\n",
       "      <td>...</td>\n",
       "      <td>...</td>\n",
       "    </tr>\n",
       "    <tr>\n",
       "      <th>21592</th>\n",
       "      <td>360000.0</td>\n",
       "      <td>1530</td>\n",
       "      <td>8</td>\n",
       "      <td>2009</td>\n",
       "      <td>98103</td>\n",
       "      <td>2.50</td>\n",
       "      <td>0.0</td>\n",
       "      <td>3</td>\n",
       "      <td>3</td>\n",
       "      <td>0.0</td>\n",
       "      <td>3.0</td>\n",
       "      <td>0.0</td>\n",
       "      <td>3</td>\n",
       "    </tr>\n",
       "    <tr>\n",
       "      <th>21593</th>\n",
       "      <td>400000.0</td>\n",
       "      <td>2310</td>\n",
       "      <td>8</td>\n",
       "      <td>2014</td>\n",
       "      <td>98146</td>\n",
       "      <td>2.50</td>\n",
       "      <td>0.0</td>\n",
       "      <td>4</td>\n",
       "      <td>3</td>\n",
       "      <td>0.0</td>\n",
       "      <td>2.0</td>\n",
       "      <td>0.0</td>\n",
       "      <td>3</td>\n",
       "    </tr>\n",
       "    <tr>\n",
       "      <th>21594</th>\n",
       "      <td>402101.0</td>\n",
       "      <td>1020</td>\n",
       "      <td>7</td>\n",
       "      <td>2009</td>\n",
       "      <td>98144</td>\n",
       "      <td>0.75</td>\n",
       "      <td>0.0</td>\n",
       "      <td>2</td>\n",
       "      <td>3</td>\n",
       "      <td>0.0</td>\n",
       "      <td>2.0</td>\n",
       "      <td>0.0</td>\n",
       "      <td>3</td>\n",
       "    </tr>\n",
       "    <tr>\n",
       "      <th>21595</th>\n",
       "      <td>400000.0</td>\n",
       "      <td>1600</td>\n",
       "      <td>8</td>\n",
       "      <td>2004</td>\n",
       "      <td>98027</td>\n",
       "      <td>2.50</td>\n",
       "      <td>0.0</td>\n",
       "      <td>3</td>\n",
       "      <td>3</td>\n",
       "      <td>NaN</td>\n",
       "      <td>2.0</td>\n",
       "      <td>0.0</td>\n",
       "      <td>3</td>\n",
       "    </tr>\n",
       "    <tr>\n",
       "      <th>21596</th>\n",
       "      <td>325000.0</td>\n",
       "      <td>1020</td>\n",
       "      <td>7</td>\n",
       "      <td>2008</td>\n",
       "      <td>98144</td>\n",
       "      <td>0.75</td>\n",
       "      <td>0.0</td>\n",
       "      <td>2</td>\n",
       "      <td>3</td>\n",
       "      <td>0.0</td>\n",
       "      <td>2.0</td>\n",
       "      <td>0.0</td>\n",
       "      <td>3</td>\n",
       "    </tr>\n",
       "  </tbody>\n",
       "</table>\n",
       "<p>21597 rows × 13 columns</p>\n",
       "</div>"
      ],
      "text/plain": [
       "          price  sqft_living  grade  yr_built  zipcode  bathrooms  view  \\\n",
       "0      221900.0         1180      7      1955    98178       1.00   0.0   \n",
       "1      538000.0         2570      7      1951    98125       2.25   0.0   \n",
       "2      180000.0          770      6      1933    98028       1.00   0.0   \n",
       "3      604000.0         1960      7      1965    98136       3.00   0.0   \n",
       "4      510000.0         1680      8      1987    98074       2.00   0.0   \n",
       "...         ...          ...    ...       ...      ...        ...   ...   \n",
       "21592  360000.0         1530      8      2009    98103       2.50   0.0   \n",
       "21593  400000.0         2310      8      2014    98146       2.50   0.0   \n",
       "21594  402101.0         1020      7      2009    98144       0.75   0.0   \n",
       "21595  400000.0         1600      8      2004    98027       2.50   0.0   \n",
       "21596  325000.0         1020      7      2008    98144       0.75   0.0   \n",
       "\n",
       "       bedrooms  condition  waterfront  floors sqft_basement  condition  \n",
       "0             3          3         NaN     1.0           0.0          3  \n",
       "1             3          3         0.0     2.0         400.0          3  \n",
       "2             2          3         0.0     1.0           0.0          3  \n",
       "3             4          5         0.0     1.0         910.0          5  \n",
       "4             3          3         0.0     1.0           0.0          3  \n",
       "...         ...        ...         ...     ...           ...        ...  \n",
       "21592         3          3         0.0     3.0           0.0          3  \n",
       "21593         4          3         0.0     2.0           0.0          3  \n",
       "21594         2          3         0.0     2.0           0.0          3  \n",
       "21595         3          3         NaN     2.0           0.0          3  \n",
       "21596         2          3         0.0     2.0           0.0          3  \n",
       "\n",
       "[21597 rows x 13 columns]"
      ]
     },
     "execution_count": 5,
     "metadata": {},
     "output_type": "execute_result"
    }
   ],
   "source": [
    "df = df[['price', 'sqft_living', 'grade', \n",
    "         'yr_built', 'zipcode', 'bathrooms', 'view', 'bedrooms', 'condition', \n",
    "         'waterfront', 'floors', 'sqft_basement', 'condition']]\n",
    "df"
   ]
  },
  {
   "cell_type": "markdown",
   "id": "93fd08d9-353f-44f6-b60f-10b3d33463ad",
   "metadata": {},
   "source": [
    "### Check Data Types"
   ]
  },
  {
   "cell_type": "code",
   "execution_count": 6,
   "id": "ee2e29af-fac6-4085-a4e5-c95f4b1590cc",
   "metadata": {},
   "outputs": [
    {
     "name": "stdout",
     "output_type": "stream",
     "text": [
      "<class 'pandas.core.frame.DataFrame'>\n",
      "RangeIndex: 21597 entries, 0 to 21596\n",
      "Data columns (total 13 columns):\n",
      " #   Column         Non-Null Count  Dtype  \n",
      "---  ------         --------------  -----  \n",
      " 0   price          21597 non-null  float64\n",
      " 1   sqft_living    21597 non-null  int64  \n",
      " 2   grade          21597 non-null  int64  \n",
      " 3   yr_built       21597 non-null  int64  \n",
      " 4   zipcode        21597 non-null  int64  \n",
      " 5   bathrooms      21597 non-null  float64\n",
      " 6   view           21534 non-null  float64\n",
      " 7   bedrooms       21597 non-null  int64  \n",
      " 8   condition      21597 non-null  int64  \n",
      " 9   waterfront     19221 non-null  float64\n",
      " 10  floors         21597 non-null  float64\n",
      " 11  sqft_basement  21597 non-null  object \n",
      " 12  condition      21597 non-null  int64  \n",
      "dtypes: float64(5), int64(7), object(1)\n",
      "memory usage: 2.1+ MB\n"
     ]
    }
   ],
   "source": [
    "df.info()"
   ]
  },
  {
   "cell_type": "markdown",
   "id": "59491f72-5e9c-4ac6-af69-118f52ad862c",
   "metadata": {},
   "source": [
    "### Drop NA"
   ]
  },
  {
   "cell_type": "code",
   "execution_count": 7,
   "id": "8c7ec3c2-af60-474f-bebb-f8950727647b",
   "metadata": {},
   "outputs": [],
   "source": [
    "df['waterfront'] = df['waterfront'].fillna(0)\n",
    "df['view'] = df['view'].fillna(0)"
   ]
  },
  {
   "cell_type": "markdown",
   "id": "ead8fa32-ab1b-4482-96e5-15b3d7c27f72",
   "metadata": {},
   "source": [
    "### Change Data Types"
   ]
  },
  {
   "cell_type": "code",
   "execution_count": 8,
   "id": "0eb5baa9-bbd0-4725-bc62-b3a6cf5d4cbd",
   "metadata": {},
   "outputs": [],
   "source": [
    "df['price'] = df['price'].astype(int)\n",
    "df['bathrooms'] = df['bathrooms'].astype(int)\n",
    "# df['view'] = df['view'].astype(int) #has null values\n",
    "df['floors'] = df['floors'].astype(int)\n",
    "df['view'] = df['view'].astype(int)\n",
    "df['waterfront'] = df['waterfront'].astype(int)"
   ]
  },
  {
   "cell_type": "code",
   "execution_count": 9,
   "id": "a72fdb52-bc67-46c4-bab4-31c7e14d6089",
   "metadata": {},
   "outputs": [],
   "source": [
    "#dropped rows with ? in the sqft_basement column\n",
    "df = df[~df['sqft_basement'].isin(['?'])]"
   ]
  },
  {
   "cell_type": "markdown",
   "id": "9a393436-6526-44fe-9450-52bc15a2b91f",
   "metadata": {},
   "source": [
    "### Price and sqft_living Correlation"
   ]
  },
  {
   "cell_type": "code",
   "execution_count": 10,
   "id": "d1365d39-3eeb-40d6-a666-a10a3d7d48e5",
   "metadata": {},
   "outputs": [
    {
     "data": {
      "image/png": "[encoded data removed]",
      "text/plain": [
       "<Figure size 1080x720 with 1 Axes>"
      ]
     },
     "metadata": {
      "needs_background": "light"
     },
     "output_type": "display_data"
    }
   ],
   "source": [
    "fig, ax,  = plt.subplots(figsize=(15,10))\n",
    "fig.tight_layout(pad=5.0)\n",
    "sns.set_style(\"ticks\")\n",
    "\n",
    "x = df.price\n",
    "y = df.sqft_living\n",
    "\n",
    "sns.regplot(x,y, line_kws={\"color\":\"r\",\"alpha\":0.7,\"lw\":5});"
   ]
  },
  {
   "cell_type": "markdown",
   "id": "d274540b-bd8e-44ab-bfc1-c1940cbb82c2",
   "metadata": {},
   "source": [
    "### Bedrooms and Price Correlation"
   ]
  },
  {
   "cell_type": "code",
   "execution_count": 11,
   "id": "2335a603-503e-4675-84ff-a94c0eefce2a",
   "metadata": {},
   "outputs": [
    {
     "data": {
      "image/png": "[encoded data removed]",
      "text/plain": [
       "<Figure size 432x288 with 1 Axes>"
      ]
     },
     "metadata": {},
     "output_type": "display_data"
    }
   ],
   "source": [
    "sns.barplot(x=\"bedrooms\", y=\"price\", data=df);"
   ]
  },
  {
   "cell_type": "markdown",
   "id": "5dcbb589-22f5-4f87-9c19-8c5c48b56292",
   "metadata": {},
   "source": [
    "### Waterfront and Price Correlation"
   ]
  },
  {
   "cell_type": "code",
   "execution_count": 12,
   "id": "8e2e523b-5f3c-4bc2-a7c1-e3c1bb42f421",
   "metadata": {},
   "outputs": [
    {
     "data": {
      "image/png": "[encoded data removed]",
      "text/plain": [
       "<Figure size 432x288 with 1 Axes>"
      ]
     },
     "metadata": {},
     "output_type": "display_data"
    }
   ],
   "source": [
    "sns.barplot(x=\"waterfront\", y=\"price\", data=df);"
   ]
  },
  {
   "cell_type": "markdown",
   "id": "e849ac32-e7a5-4007-b2db-11ca47bd8215",
   "metadata": {},
   "source": [
    "### Floors and Price Correlation"
   ]
  },
  {
   "cell_type": "code",
   "execution_count": 13,
   "id": "57273551-4748-4da8-931e-593be1412b26",
   "metadata": {},
   "outputs": [
    {
     "data": {
      "image/png": "[encoded data removed]",
      "text/plain": [
       "<Figure size 432x288 with 1 Axes>"
      ]
     },
     "metadata": {},
     "output_type": "display_data"
    }
   ],
   "source": [
    "sns.barplot(x=\"floors\", y=\"price\", data=df);"
   ]
  },
  {
   "cell_type": "markdown",
   "id": "026df4cf-0333-40be-bfbb-3c0b721f23a2",
   "metadata": {},
   "source": [
    "### View and Price Correlation"
   ]
  },
  {
   "cell_type": "code",
   "execution_count": 14,
   "id": "fe762e0a-7401-4cc3-9908-7625e8e6ec34",
   "metadata": {},
   "outputs": [
    {
     "data": {
      "image/png": "[encoded data removed]",
      "text/plain": [
       "<Figure size 432x288 with 1 Axes>"
      ]
     },
     "metadata": {},
     "output_type": "display_data"
    }
   ],
   "source": [
    "sns.barplot(x=\"view\", y=\"price\", data=df);"
   ]
  },
  {
   "cell_type": "markdown",
   "id": "983f408f-1dd0-4e0c-acd7-abe8d668bbd2",
   "metadata": {},
   "source": [
    "### Grade and Price Correlation"
   ]
  },
  {
   "cell_type": "code",
   "execution_count": 15,
   "id": "15000816-1f0e-444f-8741-ee7725219a2d",
   "metadata": {},
   "outputs": [
    {
     "data": {
      "image/png": "[encoded data removed]",
      "text/plain": [
       "<Figure size 360x360 with 1 Axes>"
      ]
     },
     "metadata": {},
     "output_type": "display_data"
    }
   ],
   "source": [
    "sns.catplot(x=\"grade\", y=\"price\", kind=\"boxen\", data=df.sort_values(\"grade\"));"
   ]
  },
  {
   "cell_type": "markdown",
   "id": "65ce9069-96f8-4cb4-9aa4-32435e91e12f",
   "metadata": {},
   "source": [
    "### OHE for condition"
   ]
  },
  {
   "cell_type": "code",
   "execution_count": 16,
   "id": "4a90e2ce-b5ca-4818-a3d2-3142a522b56a",
   "metadata": {},
   "outputs": [],
   "source": [
    "# Isolate independent and depdentent variables \n",
    "X = df.drop('price', axis = 1)\n",
    "y = df['price']\n",
    "\n",
    "X_train, X_test, y_train, y_test = train_test_split(X, y, random_state=2021)"
   ]
  },
  {
   "cell_type": "code",
   "execution_count": 17,
   "id": "d0f64898-b8b5-4cdf-ba71-b0c3efad8254",
   "metadata": {},
   "outputs": [],
   "source": [
    "#OHE for condition (1-5 scale)\n",
    "# Initialize a One Hot Encoder\n",
    "ohe = OneHotEncoder(sparse=False)\n",
    "\n",
    "# Fir the encoder to the training data\n",
    "ohe.fit(X_train[['condition']])\n",
    "\n",
    "# Transform the borough column\n",
    "train_condition = ohe.transform(X_train[['condition']])\n",
    "             \n",
    "# Turn the transformed data into a dataframe\n",
    "# so we can add it to the end of our training dataframe\n",
    "train_condition = pd.DataFrame(train_condition, \n",
    "                        # This is how you get\n",
    "                        # the feature name from\n",
    "                        # a one hot encoder              # Set the index so it matched the training data\n",
    "                        columns=ohe.get_feature_names(), index=X_train.index)\n",
    "\n",
    "# Add the transformed columns to the X_train dataframe\n",
    "train_condition = pd.concat([X_train.drop('condition', axis = 1), train_condition], axis = 1)\n",
    "\n",
    "# Transform the testing data\n",
    "test_condition = ohe.transform(X_test[['condition']])\n",
    "\n",
    "# Turn the transformed data into a dataframe\n",
    "test_condition = pd.DataFrame(test_condition, \n",
    "                        columns=ohe.get_feature_names(), index=X_test.index)\n",
    "\n",
    "# Add the transformed columns to the X_test dataframe\n",
    "test_condition = pd.concat([X_test.drop('condition', axis = 1), test_condition], axis = 1)\n"
   ]
  },
  {
   "cell_type": "code",
   "execution_count": 18,
   "id": "f3141ed4-e9ef-45a4-a9ac-983ca8bd18bd",
   "metadata": {},
   "outputs": [
    {
     "data": {
      "text/plain": [
       "['x0_1',\n",
       " 'x0_2',\n",
       " 'x0_3',\n",
       " 'x0_4',\n",
       " 'x0_5',\n",
       " 'x1_1',\n",
       " 'x1_2',\n",
       " 'x1_3',\n",
       " 'x1_4',\n",
       " 'x1_5']"
      ]
     },
     "execution_count": 18,
     "metadata": {},
     "output_type": "execute_result"
    }
   ],
   "source": [
    "#OHE column names \n",
    "ohe.get_feature_names().tolist()"
   ]
  },
  {
   "cell_type": "code",
   "execution_count": 19,
   "id": "926be887-9b21-4589-954b-63ad3378161e",
   "metadata": {},
   "outputs": [],
   "source": [
    "condition = ['x0_1', 'x0_2', 'x0_3', 'x0_4', 'x0_5']"
   ]
  },
  {
   "cell_type": "markdown",
   "id": "55ac8737-48ce-45a2-bb62-03e84c6c118a",
   "metadata": {},
   "source": [
    "### OHE for zipcode"
   ]
  },
  {
   "cell_type": "code",
   "execution_count": 20,
   "id": "5381feda-5205-4c86-bf65-7bcd571c7f5a",
   "metadata": {},
   "outputs": [],
   "source": [
    "#OHE for zipcode \n",
    "# Initialize a One Hot Encoder\n",
    "ohe = OneHotEncoder(sparse=False)\n",
    "\n",
    "# Fir the encoder to the training data\n",
    "ohe.fit(X_train[['zipcode']])\n",
    "\n",
    "# Transform the borough column\n",
    "train_zipcode = ohe.transform(X_train[['zipcode']])\n",
    "             \n",
    "# Turn the transformed data into a dataframe\n",
    "# so we can add it to the end of our training dataframe\n",
    "train_zipcode = pd.DataFrame(train_zipcode, \n",
    "                        # This is how you get\n",
    "                        # the feature name from\n",
    "                        # a one hot encoder              # Set the index so it matched the training data\n",
    "                        columns=ohe.get_feature_names(), index=X_train.index)\n",
    "\n",
    "# Add the transformed columns to the X_train dataframe\n",
    "train_zipcode = pd.concat([X_train.drop('zipcode', axis = 1), train_zipcode], axis = 1)\n",
    "\n",
    "\n",
    "# Transform the testing data\n",
    "test_zipcode = ohe.transform(X_test[['zipcode']])\n",
    "\n",
    "# Turn the transformed data into a dataframe\n",
    "test_zipcode = pd.DataFrame(test_zipcode, \n",
    "                        columns=ohe.get_feature_names(), index=X_test.index)\n",
    "# Add the transformed columns to the X_test dataframe\n",
    "test_zipcode = pd.concat([X_test.drop('zipcode', axis = 1), test_zipcode], axis = 1)\n",
    "\n",
    "test_zipcode = pd.concat([test_zipcode, test_condition], axis = 1)\n",
    "train_zipcode = pd.concat([train_zipcode, train_condition], axis = 1)\n"
   ]
  },
  {
   "cell_type": "code",
   "execution_count": 21,
   "id": "fadf18a8-4fb5-445b-8c50-8606c9b555f6",
   "metadata": {},
   "outputs": [],
   "source": [
    "zipcode = ['x0_98001','x0_98002','x0_98003','x0_98004','x0_98005','x0_98006','x0_98007','x0_98008','x0_98010','x0_98011','x0_98014','x0_98019','x0_98022','x0_98023','x0_98024','x0_98027','x0_98028','x0_98029','x0_98030','x0_98031','x0_98032','x0_98033','x0_98034','x0_98038','x0_98039','x0_98040','x0_98042','x0_98045','x0_98052','x0_98053','x0_98055','x0_98056','x0_98058','x0_98059','x0_98065','x0_98070','x0_98072','x0_98074','x0_98075','x0_98077','x0_98092','x0_98102','x0_98103','x0_98105','x0_98106','x0_98107','x0_98108','x0_98109','x0_98112','x0_98115','x0_98116','x0_98117','x0_98118','x0_98119','x0_98122','x0_98125','x0_98126','x0_98133','x0_98136','x0_98144','x0_98146','x0_98148','x0_98155','x0_98166','x0_98168','x0_98177','x0_98178','x0_98188','x0_98198','x0_98199']"
   ]
  },
  {
   "cell_type": "markdown",
   "id": "198dedff-480a-4b68-8497-4caa34c26997",
   "metadata": {},
   "source": [
    "### Run a Train Test Split"
   ]
  },
  {
   "cell_type": "code",
   "execution_count": 22,
   "id": "414115c4-4654-4803-9a78-7d12c38d78bc",
   "metadata": {},
   "outputs": [],
   "source": [
    "X = df.drop('price', axis = 1)\n",
    "y = df['price']\n",
    "X_train, X_test, y_train, y_test = train_test_split(X, y, random_state = 12)"
   ]
  },
  {
   "cell_type": "markdown",
   "id": "1577c24f-cf07-4134-bae6-beec8e4dbff9",
   "metadata": {},
   "source": [
    "### Make Final Model"
   ]
  },
  {
   "cell_type": "code",
   "execution_count": 23,
   "id": "f037e252-4777-4bec-b9f0-7b23c010fc89",
   "metadata": {},
   "outputs": [
    {
     "name": "stdout",
     "output_type": "stream",
     "text": [
      "Train error: 126380.92026185518\n",
      "Test error: 243932.81486939715\n"
     ]
    }
   ],
   "source": [
    "model_7_train = X_train[['sqft_living', 'grade',  \n",
    "                        'bathrooms', 'view', 'yr_built', 'sqft_basement', 'zipcode', 'condition',\n",
    "                         'bedrooms', 'waterfront','floors']]\n",
    "\n",
    "model_7_test = X_test[['sqft_living', 'grade',\n",
    "                          'bathrooms', 'view', 'yr_built', 'sqft_basement', 'zipcode', 'condition',\n",
    "                         'bedrooms', 'waterfront','floors']]\n",
    "\n",
    "model_7_train['price'] = y_train\n",
    "model_7_train = model_7_train[np.abs(stats.zscore(model_7_train['price'])) < 1]\n",
    "y_train = model_7_train.price\n",
    "model_7_train.drop('price', axis=1, inplace=True)\n",
    "\n",
    "model7 = LinearRegression()\n",
    "model7.fit(model_7_train, y_train)\n",
    "\n",
    "train_preds = model7.predict(model_7_train)\n",
    "test_preds = model7.predict(model_7_test)\n",
    "\n",
    "train_error = mean_squared_error(y_train, train_preds, squared= False)\n",
    "test_error = mean_squared_error(y_test, test_preds, squared= False)\n",
    "\n",
    "print('Train error:', train_error)\n",
    "print('Test error:', test_error)"
   ]
  },
  {
   "cell_type": "markdown",
   "id": "1ba957f0-c8d0-4bce-a25a-6b54208ccf11",
   "metadata": {},
   "source": [
    "In our model we used the most correlated features to get the most accuarate model.  We began the model by examining our data types and converting the fatures to integers.  Next we removed null values and looked at the correlation between the features and price in order to decide what to use in our model.  To use the condition and zipcode features we used One Hot Encoder to make high numbers equally important.  We then preformed a train test split on our data and made our final model. \n",
    "This had a trianing error of 126380.9 and a test error of 243932.8.  This caused a differnce of 117551.9"
   ]
  },
  {
   "cell_type": "code",
   "execution_count": null,
   "id": "2526138a-8613-4ed6-aafa-4d92bc3aa03a",
   "metadata": {},
   "outputs": [],
   "source": []
  }
 ],
 "metadata": {
  "kernelspec": {
   "display_name": "Python 3",
   "language": "python",
   "name": "python3"
  },
  "language_info": {
   "codemirror_mode": {
    "name": "ipython",
    "version": 3
   },
   "file_extension": ".py",
   "mimetype": "text/x-python",
   "name": "python",
   "nbconvert_exporter": "python",
   "pygments_lexer": "ipython3",
   "version": "3.8.5"
  }
 },
 "nbformat": 4,
 "nbformat_minor": 5
}
